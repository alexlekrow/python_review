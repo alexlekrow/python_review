{
 "cells": [
  {
   "cell_type": "markdown",
   "source": [
    "# Calculating the Parity of a Word"
   ],
   "metadata": {}
  },
  {
   "cell_type": "code",
   "execution_count": 134,
   "source": [
    "# O(n) brute force parity implementation\r\n",
    "def parity_1(x: int) -> int:\r\n",
    "    result = 0\r\n",
    "    while x:\r\n",
    "        result ^= x & 1\r\n",
    "        x >>= 1\r\n",
    "    return result"
   ],
   "outputs": [],
   "metadata": {}
  },
  {
   "cell_type": "code",
   "execution_count": 135,
   "source": [
    "# O(k) runtime parity implementation using trick that lets clear each rightmost set bit, where k is the number of set bits in x\r\n",
    "def parity_2(x: int) -> int:\r\n",
    "    result = 0\r\n",
    "    while x:\r\n",
    "        result ^= 1\r\n",
    "        x &= (x - 1) # drop the lowest set bit\r\n",
    "    return result"
   ],
   "outputs": [],
   "metadata": {}
  },
  {
   "cell_type": "code",
   "execution_count": 136,
   "source": [
    "# O(log n) runtime parity implementation using the CPU's word level XOR operations to trim the input space\r\n",
    "def parity_3(x: int) -> int:\r\n",
    "    x ^= x >> 32 # Split the 64 bits into two 32 bit words and XOR them, 32 significant bits remaining\r\n",
    "    x ^= x >> 16 # Split the remaining 32 bits into two 16 bit words and XOR them, 16 significant bits remaining\r\n",
    "    x ^= x >> 8 # Split the remaining 16 bits into two 8 bit words and XOR them, 8 significant bits remaining\r\n",
    "    x ^= x >> 4 # Split the remaining 8 bits into two 4 bit words and XOR them, 4 significant bits remaining\r\n",
    "    x ^= x >> 2 # Split the remaining 4 bits into two 2 bit words and XOR them, 2 significant bits remaining\r\n",
    "    x ^= x >> 1 # Split the remaining 2 bits into two 1 bit words and XOR them, 1 significant bits remaining\r\n",
    "    return x & 0x1 # Grab parity by masking out everything but the lowest bit"
   ],
   "outputs": [],
   "metadata": {}
  },
  {
   "cell_type": "markdown",
   "source": [
    "# Bit Utilities"
   ],
   "metadata": {}
  },
  {
   "cell_type": "code",
   "execution_count": 137,
   "source": [
    "def isolate_lowest_set_bit(x: int) -> int:\r\n",
    "    return x & ~(x - 1)\r\n",
    "\r\n",
    "def test_isolate_lowest_set_bit():\r\n",
    "    x = 129\r\n",
    "    y = 210\r\n",
    "    z = 128\r\n",
    "    print(\"Value before isolating lowest set bit { x: \" + str(binary(x)) + \", y: \" + str(binary(y)) + \", z: \" + str(binary(z)) + \" }\")\r\n",
    "    x = isolate_lowest_set_bit(x)\r\n",
    "    y = isolate_lowest_set_bit(y)\r\n",
    "    z = isolate_lowest_set_bit(z)\r\n",
    "    print(\"Values after isolateing lowest set bit { x: \" + str(binary(x)) + \", y: \" + str(binary(y)) + \", z: \" + str(binary(z)) + \" }\")"
   ],
   "outputs": [],
   "metadata": {}
  },
  {
   "cell_type": "code",
   "execution_count": 138,
   "source": [
    "def clear_lowest_set_bit(x: int) -> int:\r\n",
    "    return x & (x - 1)\r\n",
    "\r\n",
    "def test_clear_lowest_set_bit():\r\n",
    "    x = 128\r\n",
    "    y = 129\r\n",
    "    print(\"Value before clearing lowest set bit { x: \" + binary(x) + \", y: \" + binary(y) + \" }\")\r\n",
    "    x = clear_lowest_set_bit(x)\r\n",
    "    y = clear_lowest_set_bit(y)\r\n",
    "    print(\"Values after clearing lowest set bit { x: \" + binary(x) + \", y: \" + binary(y) + \" }\")"
   ],
   "outputs": [],
   "metadata": {}
  },
  {
   "cell_type": "code",
   "execution_count": 139,
   "source": [
    "def right_prop_lowest_set_bit(x: int) -> int:\r\n",
    "    return x | (x - 1)\r\n",
    "\r\n",
    "def test_right_prop_lowest_set_bit():\r\n",
    "    x = 129\r\n",
    "    y = 210\r\n",
    "    z = 128\r\n",
    "    print(\"Value before right propagating lowest set bit { x: \" + binary_string(x) + \", y: \" + binary_string(y) + \", z: \" + binary_string(z) + \" }\")\r\n",
    "    x = right_prop_lowest_set_bit(x)\r\n",
    "    y = right_prop_lowest_set_bit(y)\r\n",
    "    z = right_prop_lowest_set_bit(z)\r\n",
    "    print(\"Values after right propagating lowest set bit { x: \" + binary_string(x) + \", y: \" + binary_string(y) + \", z: \" + binary_string(z) + \" }\")"
   ],
   "outputs": [],
   "metadata": {}
  },
  {
   "cell_type": "code",
   "execution_count": 140,
   "source": [
    "def count_set_bits(x: int) -> int:\r\n",
    "    num_bits = 0\r\n",
    "    while x:\r\n",
    "        num_bits += x & 1\r\n",
    "        x >>= 1\r\n",
    "    return num_bits\r\n",
    "\r\n",
    "def count_set_bits_2(x: int) -> int:\r\n",
    "    sum = 0\r\n",
    "    while x:\r\n",
    "        sum += 1\r\n",
    "        x &= (x - 1) # drop the lowest set bit\r\n",
    "    return sum"
   ],
   "outputs": [],
   "metadata": {}
  },
  {
   "cell_type": "code",
   "execution_count": 141,
   "source": [
    "def trim_with_mod(x: int, a: int) -> int:\r\n",
    "    return x & (a - 1)\r\n",
    "\r\n",
    "def test_trim_with_mod():\r\n",
    "    x1 = 129435\r\n",
    "    a1 = 32\r\n",
    "    x2 = 77\r\n",
    "    a2 = 64\r\n",
    "    print(\"Values before triming with mod  { { x1: \" + str(x1) + \", a1: \" + str(a1) + \" }, { x2: \" + str(x2) + \", a2: \" + str(a2) + \" } }\")\r\n",
    "    x1 = trim_with_mod(x1,a1)\r\n",
    "    x2 = trim_with_mod(x2,a2)\r\n",
    "    print(\"Value after trimming with mod { { x1: \" + str(x1) + \", a1: \" + str(a1) + \" }, { x2: \" + str(x2) + \", a2: \" + str(a2) + \" } }\")\r\n",
    "    print(\"Final values of x1: \" + str(x1) + \", and x2: \" + str(x2))"
   ],
   "outputs": [],
   "metadata": {}
  },
  {
   "cell_type": "code",
   "execution_count": 142,
   "source": [
    "def swap_bits(x: int, i: int, j: int) -> int:\r\n",
    "    if ((x >> i) & 1) != ((x >> j) & 1):\r\n",
    "        x ^= ((1 << i) | (1 << j))\r\n",
    "    return x"
   ],
   "outputs": [],
   "metadata": {}
  },
  {
   "cell_type": "code",
   "execution_count": 143,
   "source": [
    "def reverse_bits(x: int) -> int:\r\n",
    "    # Use lookup table\r\n",
    "    # Maybe use trick from parity_3\r\n",
    "    return x"
   ],
   "outputs": [],
   "metadata": {}
  },
  {
   "cell_type": "code",
   "execution_count": 144,
   "source": [
    "def closest_int_with_same_weight(x: int) -> int:\r\n",
    "    num_bits = 64\r\n",
    "    for i in range(num_bits - 1):\r\n",
    "        if (x >> i) & 1 != (x >> (i + 1)) & 1:\r\n",
    "            x ^= (1 << i) | (1 << (i + 1))\r\n",
    "            return x\r\n",
    "    raise ValueError(\"All bits are 1 or 0 so no alternate int can be found\")\r\n",
    "\r\n",
    "# WORK IN PROGRESS, Attempt at O(1) space & time implementation\r\n",
    "def closest_int_with_same_weight_2(x: int) -> int:\r\n",
    "    # Islolate lowest set bit\r\n",
    "    if (x == 0 or x == ~0):\r\n",
    "        raise ValueError(\"All bits are 1 or 0 so no alternate int can be found\")\r\n",
    "\r\n",
    "    lowestSetBitMask = x & ~(x - 1)\r\n",
    "    nextBitMask = lowestSetBitMask >> 1\r\n",
    "    combinedMask = lowestSetBitMask | nextBitMask\r\n",
    "    return x ^ combinedMask"
   ],
   "outputs": [],
   "metadata": {}
  },
  {
   "cell_type": "code",
   "execution_count": 180,
   "source": [
    "def binary(num: int) -> int:\r\n",
    "    return int(bin(num).split('0b')[1])"
   ],
   "outputs": [],
   "metadata": {}
  },
  {
   "cell_type": "code",
   "execution_count": 146,
   "source": [
    "def multiply(x: int, y: int) -> int:\r\n",
    "    def add(a: int, b: int) -> int:\r\n",
    "        return a if b == 0 else add(a ^ b, (a & b) << 1)\r\n",
    "\r\n",
    "    runningSum = 0\r\n",
    "    while x: # Examine each bit of x\r\n",
    "        if x & 1:\r\n",
    "            runningSum = add(runningSum, y)\r\n",
    "        x = x >> 1\r\n",
    "        y = y << 1\r\n",
    "\r\n",
    "    return runningSum"
   ],
   "outputs": [],
   "metadata": {}
  },
  {
   "cell_type": "code",
   "execution_count": 149,
   "source": [
    "def divide(x: int, y: int) -> int:\r\n",
    "    result, power = 0, 32\r\n",
    "    y_power = y << power\r\n",
    "    while x >= y:\r\n",
    "        while y_power > x:\r\n",
    "            y_power >>= 1\r\n",
    "            power -= 1\r\n",
    "\r\n",
    "        result += 1 << power\r\n",
    "        x -= y_power\r\n",
    "\r\n",
    "    return result"
   ],
   "outputs": [],
   "metadata": {}
  },
  {
   "cell_type": "code",
   "execution_count": 165,
   "source": [
    "def pow(x: float, y: int) -> float:\r\n",
    "    result, power = 1.0, y\r\n",
    "    if y < 0:\r\n",
    "        power, x = -power, 1.0 / x\r\n",
    "    while power:\r\n",
    "        if power & 1:\r\n",
    "            result *= x\r\n",
    "        x, power = x * x, power >> 1\r\n",
    "    return result"
   ],
   "outputs": [],
   "metadata": {}
  },
  {
   "cell_type": "code",
   "execution_count": 179,
   "source": [
    "def reverse(x: int) -> int:\r\n",
    "    # O(k) time | O(1) space, where k is the number of decimal digits in x\r\n",
    "    result, x_remaining = 0, abs(x)\r\n",
    "    while x_remaining:\r\n",
    "        result = result * 10 + x_remaining % 10\r\n",
    "        x_remaining //= 10\r\n",
    "    return -result if x < 0 else result"
   ],
   "outputs": [],
   "metadata": {}
  },
  {
   "cell_type": "code",
   "execution_count": 181,
   "source": [
    "def is_decimal_palindrome(x: int) -> bool:\r\n",
    "    is_palindrome = False\r\n",
    "    if x < 0:\r\n",
    "        is_palindrome = False\r\n",
    "    elif x < 10:\r\n",
    "        is_palindrome = True\r\n",
    "    else:\r\n",
    "        is_palindrome = x == reverse(x)\r\n",
    "    return is_palindrome"
   ],
   "outputs": [],
   "metadata": {}
  },
  {
   "cell_type": "code",
   "execution_count": 192,
   "source": [
    "# import collections\r\n",
    "# Rect = collections.namedtuple('Rect', ('x', 'y', 'width', 'height'))\r\n",
    "\r\n",
    "# def intersect_rectangles(r1: Rect, r2: Rect) -> Rect:\r\n",
    "    # def is_intersect():\r\n",
    "\r\n",
    "    # if not is_intersect(r1, r2):\r\n",
    "    #     return Rect(0, 0, -1, -1)"
   ],
   "outputs": [],
   "metadata": {}
  },
  {
   "cell_type": "code",
   "execution_count": 188,
   "source": [
    "x = 1214121\r\n",
    "print(str(is_decimal_palindrome(x)))\r\n",
    "\r\n"
   ],
   "outputs": [
    {
     "output_type": "stream",
     "name": "stdout",
     "text": [
      "True\n"
     ]
    }
   ],
   "metadata": {}
  }
 ],
 "metadata": {
  "orig_nbformat": 4,
  "language_info": {
   "name": "python",
   "version": "3.8.5",
   "mimetype": "text/x-python",
   "codemirror_mode": {
    "name": "ipython",
    "version": 3
   },
   "pygments_lexer": "ipython3",
   "nbconvert_exporter": "python",
   "file_extension": ".py"
  },
  "kernelspec": {
   "name": "python3",
   "display_name": "Python 3.8.5 64-bit ('base': conda)"
  },
  "interpreter": {
   "hash": "6bb2039ee987b8bb71403eb89ceb5533f4cb54a0315462524ae93be9253d6d59"
  }
 },
 "nbformat": 4,
 "nbformat_minor": 2
}